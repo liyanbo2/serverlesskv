{
 "cells": [
  {
   "cell_type": "code",
   "execution_count": 1,
   "metadata": {},
   "outputs": [
    {
     "data": {
      "application/vnd.jupyter.widget-view+json": {
       "model_id": "1b471e4d60984b81919de98b8fc1d471",
       "version_major": 2,
       "version_minor": 0
      },
      "text/plain": [
       "Loading checkpoint shards:   0%|          | 0/2 [00:00<?, ?it/s]"
      ]
     },
     "metadata": {},
     "output_type": "display_data"
    }
   ],
   "source": [
    "import torch\n",
    "from transformers import AutoTokenizer, AutoModelForCausalLM\n",
    "\n",
    "tokenizer = AutoTokenizer.from_pretrained(\"/dataset/crosspipe/OriginModel/Llama-2-7b-chat-hf/\")\n",
    "model = AutoModelForCausalLM.from_pretrained(\"/dataset/crosspipe/OriginModel/Llama-2-7b-chat-hf/\", torch_dtype=torch.float16).to(\"cuda:2\")\n"
   ]
  },
  {
   "cell_type": "code",
   "execution_count": 2,
   "metadata": {},
   "outputs": [],
   "source": [
    "import time"
   ]
  },
  {
   "cell_type": "code",
   "execution_count": 7,
   "metadata": {},
   "outputs": [
    {
     "name": "stdout",
     "output_type": "stream",
     "text": [
      "I like rock music because it speaks to me on a deep level. I find the lyrics and melodies to be powerful and thought-provoking, and I enjoy the energy and emotion that comes through in the music. I also appreciate the diversity of rock music, which encompasses a wide range of styles and sub-genres, from classic rock to heavy metal to indie rock.\n",
      "One of my favorite things about rock music is its ability to evoke strong emotions. Whether it's the raw energy of a live performance or the introspective lyrics of a ballad, rock music has a way of connecting with me on a personal level. I find myself reflecting on my own experiences and emotions as I listen to rock music, and I often find comfort in the shared experiences and emotions that the music conveys.\n",
      "Another aspect of rock music that I enjoy is its ability to be both catchy and complex. Many rock songs have memorable hooks and choruses that stick in my head, but they also often have intricate melodies and rhythms that reward close listening. I appreciate the challenge of trying to decipher the subtleties of a song's structure and lyrics, and I enjoy the sense of accomplishment that comes from figuring out a particularly tricky riff or chord progression.\n",
      "Overall, I find rock music to be a powerful and enduring genre that speaks to me on a deep level. Its ability to evoke strong emotions, convey complex ideas, and create a sense of community and connection with other fans makes it a vital part of my musical identity.\n",
      "FP32 time: 19.179569244384766\n",
      "I like rock music because it's powerful, energetic, and can be very emotional. Sometimes, I just want to turn off my brain and rock out to some loud, raw music.\n",
      "\n",
      "\n",
      "Quantized time: 4.914584398269653\n"
     ]
    }
   ],
   "source": [
    "inputs = tokenizer(\"I like rock music because\", return_tensors=\"pt\").to(model.device)\n",
    "\n",
    "\n",
    "time3 = time.time()\n",
    "out = model.generate(**inputs, do_sample=True, max_new_tokens=500)\n",
    "print(tokenizer.batch_decode(out, skip_special_tokens=True)[0])\n",
    "time4 = time.time()\n",
    "time_fp32 = time4 - time3\n",
    "print(f\"FP32 time: {time_fp32}\")\n",
    "time1 = time.time()\n",
    "out = model.generate(**inputs, do_sample=True, max_new_tokens=500, cache_implementation=\"quantized\", cache_config={\"nbits\": 2, \"backend\": \"quanto\"})\n",
    "print(tokenizer.batch_decode(out, skip_special_tokens=True)[0])\n",
    "time2 = time.time()\n",
    "time_quantized = time2 - time1\n",
    "print(f\"Quantized time: {time_quantized}\")"
   ]
  },
  {
   "cell_type": "code",
   "execution_count": 4,
   "metadata": {},
   "outputs": [
    {
     "name": "stderr",
     "output_type": "stream",
     "text": [
      "/usr/local/lib/python3.10/dist-packages/quanto/library/ops.py:66: UserWarning: An exception was raised while calling the optimized kernel for quanto::unpack: /root/.cache/torch_extensions/py310_cu124/quanto_cuda/quanto_cuda.so: cannot open shared object file: No such file or directory Falling back to default implementation.\n",
      "  warnings.warn(message + \" Falling back to default implementation.\")\n"
     ]
    },
    {
     "name": "stdout",
     "output_type": "stream",
     "text": [
      "text with quant cache: ['<s> Hello, how are you?</s></s><s>\\n\\nI am very glad to meet you, I am a highly skilled and experienced software developer with a strong passion for creating innovative and efficient software solutions. I have a deep understanding of programming languages such as Java, Python, and C++, as well as experience with web development frameworks such as Spring and Django. I am also proficient in Agile methodologies and have experience working in a team environment.\\nI am confident that my skills and experience make me a strong candidate for this position, and I am excited to bring my expertise to your team. Thank you for considering my application.\\nSincerely,\\n[Your Name]</s>', \"<s> I don't like burgers because I don't like the taste of ground meat. I find it too bland and uninteresting. I much prefer chicken or fish burgers, or even vegetarian burgers made with beans or mushrooms.\\nI also don't like the texture of ground meat. It's too dense and chewy for my liking. I prefer foods that are lighter and more tender, like chicken or fish.\\nOverall, I think burgers are just not my cup of tea. I understand why many people enjoy them, but I'd rather have something else.</s><unk><unk><unk><unk><unk><unk><unk><unk><unk><unk>\"]\n",
      "text with fp16 cache: [\"<s> Hello, how are you?</s></s><s>\\n\\nI'm doing well, thanks for asking! How about you?\\n\\nI\", \"<s> I don't like burgers because they are too greasy and I don't like the taste of meat.\\n\\nI prefer\"]\n"
     ]
    }
   ],
   "source": [
    "tokenizer.pad_token_id = tokenizer.eos_token_id\n",
    "inputs = tokenizer([\"Hello, how are you?\", \"I don't like burgers because\"], padding=True, return_tensors=\"pt\").to(\"cuda:2\")\n",
    "\n",
    "# Feel free to play with generation kwargs. See (https://huggingface.co/docs/transformers/main/en/main_classes/text_generation#transformers.GenerationConfig) for more\n",
    "generation_kwargs = {\"do_sample\": False, \"temperature\": 1.0, \"top_p\": 1.0, \"max_new_tokens\": 20, \"min_new_tokens\": 20}\n",
    "\n",
    "# Let's generate one with quantized cache, and another with original precision cache. Then check the quality of generations\n",
    "out = model.generate(**inputs, cache_implementation=\"quantized\", cache_config={\"backend\": \"quanto\", \"nbits\": 4, \"q_group_size\": 32, \"residual_length\": 64})\n",
    "out_fp16 = model.generate(**inputs, **generation_kwargs)\n",
    "\n",
    "print(f\"text with quant cache: {tokenizer.batch_decode(out)}\")\n",
    "print(f\"text with fp16 cache: {tokenizer.batch_decode(out_fp16)}\")"
   ]
  }
 ],
 "metadata": {
  "kernelspec": {
   "display_name": "Python 3",
   "language": "python",
   "name": "python3"
  },
  "language_info": {
   "codemirror_mode": {
    "name": "ipython",
    "version": 3
   },
   "file_extension": ".py",
   "mimetype": "text/x-python",
   "name": "python",
   "nbconvert_exporter": "python",
   "pygments_lexer": "ipython3",
   "version": "3.10.12"
  }
 },
 "nbformat": 4,
 "nbformat_minor": 2
}
