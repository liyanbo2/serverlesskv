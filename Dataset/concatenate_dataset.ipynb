{
 "cells": [
  {
   "cell_type": "code",
   "execution_count": 2,
   "metadata": {},
   "outputs": [],
   "source": [
    "DATASET_LIST = [\"narrativeqa\", \"qasper\",\n",
    "                \"multi_news\", \"hotpotqa\", \"2wikimqa\", \"musique\", \"dureader\", \"gov_report\", \"qmsum\", \n",
    "                \"vcsum\", \"trec\", \"triviaqa\", \"samsum\", \"lsht\", \"passage_count\", \"passage_retrieval_en\", \"lcc\",\n",
    "                \"repobench-p\"]\n",
    "\n"
   ]
  },
  {
   "cell_type": "code",
   "execution_count": 9,
   "metadata": {},
   "outputs": [],
   "source": [
    "PICKED_DATASET_LIST = [\"hotpotqa\", \"2wikimqa\", \"musique\",\"triviaqa\",\"qasper\"]\n",
    "SAVE_DIR = \"/dataset/crosspipe/LongBench/\""
   ]
  },
  {
   "cell_type": "code",
   "execution_count": 10,
   "metadata": {},
   "outputs": [],
   "source": [
    "import os\n",
    "from datasets import load_from_disk, concatenate_datasets\n",
    "datasets = [load_from_disk(os.path.join(SAVE_DIR, dataset,\"test\")) for dataset in PICKED_DATASET_LIST]\n",
    "mixed_datasets = concatenate_datasets(datasets)"
   ]
  },
  {
   "cell_type": "code",
   "execution_count": null,
   "metadata": {},
   "outputs": [],
   "source": [
    "mixed_datasets"
   ]
  },
  {
   "cell_type": "code",
   "execution_count": 12,
   "metadata": {},
   "outputs": [
    {
     "name": "stderr",
     "output_type": "stream",
     "text": [
      "Saving the dataset (1/1 shards): 100%|██████████| 1000/1000 [00:01<00:00, 870.24 examples/s] \n"
     ]
    }
   ],
   "source": [
    "mixed_datasets.save_to_disk(os.path.join(SAVE_DIR, \"mixed_datasets_5\"))"
   ]
  },
  {
   "cell_type": "code",
   "execution_count": null,
   "metadata": {},
   "outputs": [],
   "source": [
    "for items in mixed_datasets:\n",
    "    print(items)"
   ]
  },
  {
   "cell_type": "code",
   "execution_count": 15,
   "metadata": {},
   "outputs": [],
   "source": [
    "shuffled_dataset = mixed_datasets.shuffle(seed=41)"
   ]
  },
  {
   "cell_type": "code",
   "execution_count": null,
   "metadata": {},
   "outputs": [],
   "source": [
    "print(\"Original dataset first 5 samples:\")\n",
    "print(mixed_datasets[:5])\n",
    "\n",
    "print(\"\\nShuffled dataset first 5 samples:\")\n",
    "print(shuffled_dataset[:5])"
   ]
  }
 ],
 "metadata": {
  "kernelspec": {
   "display_name": "Python 3",
   "language": "python",
   "name": "python3"
  },
  "language_info": {
   "codemirror_mode": {
    "name": "ipython",
    "version": 3
   },
   "file_extension": ".py",
   "mimetype": "text/x-python",
   "name": "python",
   "nbconvert_exporter": "python",
   "pygments_lexer": "ipython3",
   "version": "3.10.14"
  }
 },
 "nbformat": 4,
 "nbformat_minor": 2
}
