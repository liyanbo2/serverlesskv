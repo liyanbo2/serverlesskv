{
 "cells": [
  {
   "cell_type": "code",
   "execution_count": 16,
   "metadata": {},
   "outputs": [],
   "source": [
    "from datasets import load_dataset\n",
    "DATASET_LIST = [\"squad_v2\", \"multi_news\", \"wiki_qa\", \"pubmed_qa\", \"ms_marco\", \"narrativeqa\", \"qasper\",\n",
    "                \"multifieldqa_en\", \"hotpotqa\", \"2wikimqa\", \"musique\", \"dureader\", \"gov_report\", \"qmsum\", \n",
    "                \"vcsum\", \"trec\", \"triviaqa\", \"samsum\", \"lsht\", \"passage_count\", \"passage_retrieval_en\", \"lcc\",\n",
    "                \"repobench-p\"]\n",
    "\n"
   ]
  },
  {
   "cell_type": "code",
   "execution_count": 1,
   "metadata": {},
   "outputs": [],
   "source": [
    "from datasets import load_dataset"
   ]
  },
  {
   "cell_type": "code",
   "execution_count": null,
   "metadata": {},
   "outputs": [],
   "source": [
    "from datasets import load_dataset\n",
    "\n",
    "# List of available datasets in the THUDM/LongBench repository\n",
    "DATASET_LIST = [\"2wikimqa\", \"dureader\", \"gov_report\", \"hotpotqa\", \"lcc\", \"lsht\", \"multi_news\", \n",
    "                \"narrativeqa\", \"qasper\", \"musique\", \"qmsum\",  \"vcsum\", \n",
    "                \"trec\", \"triviaqa\", \"samsum\", \"passage_count\", \"passage_retrieval_en\", \"repobench-p\"]\n",
    "\n",
    "# Download datasets\n",
    "for dataset_name in DATASET_LIST:\n",
    "    dataset = load_dataset(\"THUDM/LongBench\", dataset_name)\n",
    "    dataset.save_to_disk(\"F:/datasets/LongBench/\")\n",
    "# how to save the dataset\n"
   ]
  },
  {
   "cell_type": "code",
   "execution_count": null,
   "metadata": {},
   "outputs": [],
   "source": [
    "from datasets import load_dataset\n",
    "import os\n",
    "\n",
    "# 创建本地保存数据集的目录\n",
    "local_dir = \"F:/datasets/LongBench/\"\n",
    "os.makedirs(local_dir, exist_ok=True)\n",
    "\n",
    "# 可用的数据集列表\n",
    "DATASET_LIST = [\n",
    "    \"2wikimqa\", \"dureader\", \"gov_report\", \"hotpotqa\", \"lcc\", \"lsht\", \n",
    "    \"multi_news\", \"narrativeqa\", \"qasper\", \"musique\", \"qmsum\",  \n",
    "    \"vcsum\", \"trec\", \"triviaqa\", \"samsum\", \"passage_count\", \n",
    "    \"passage_retrieval_en\", \"repobench-p\"\n",
    "]\n",
    "\n",
    "# 下载数据集并保存到本地\n",
    "for dataset_name in DATASET_LIST:\n",
    "    dataset = load_dataset(\"THUDM/LongBench\", dataset_name, data_dir=local_dir)\n",
    "    print(f\"Downloaded and saved {dataset_name} to {local_dir}\")"
   ]
  },
  {
   "cell_type": "code",
   "execution_count": 8,
   "metadata": {},
   "outputs": [
    {
     "data": {
      "application/vnd.jupyter.widget-view+json": {
       "model_id": "109c8649c35241109fd165d652722882",
       "version_major": 2,
       "version_minor": 0
      },
      "text/plain": [
       "Saving the dataset (0/1 shards):   0%|          | 0/200 [00:00<?, ? examples/s]"
      ]
     },
     "metadata": {},
     "output_type": "display_data"
    },
    {
     "name": "stdout",
     "output_type": "stream",
     "text": [
      "Downloaded and saved 2wikimqa to F:/datasets/LongBench/\n"
     ]
    },
    {
     "data": {
      "application/vnd.jupyter.widget-view+json": {
       "model_id": "7d9363360ea64f51b45dea80b967ef28",
       "version_major": 2,
       "version_minor": 0
      },
      "text/plain": [
       "Saving the dataset (0/1 shards):   0%|          | 0/200 [00:00<?, ? examples/s]"
      ]
     },
     "metadata": {},
     "output_type": "display_data"
    },
    {
     "name": "stdout",
     "output_type": "stream",
     "text": [
      "Downloaded and saved dureader to F:/datasets/LongBench/\n"
     ]
    },
    {
     "data": {
      "application/vnd.jupyter.widget-view+json": {
       "model_id": "897d8d893f7e42678c10adb2447196ec",
       "version_major": 2,
       "version_minor": 0
      },
      "text/plain": [
       "Saving the dataset (0/1 shards):   0%|          | 0/200 [00:00<?, ? examples/s]"
      ]
     },
     "metadata": {},
     "output_type": "display_data"
    },
    {
     "name": "stdout",
     "output_type": "stream",
     "text": [
      "Downloaded and saved gov_report to F:/datasets/LongBench/\n"
     ]
    },
    {
     "data": {
      "application/vnd.jupyter.widget-view+json": {
       "model_id": "8328d557c76746f1aa00390727d2c5f3",
       "version_major": 2,
       "version_minor": 0
      },
      "text/plain": [
       "Saving the dataset (0/1 shards):   0%|          | 0/200 [00:00<?, ? examples/s]"
      ]
     },
     "metadata": {},
     "output_type": "display_data"
    },
    {
     "name": "stdout",
     "output_type": "stream",
     "text": [
      "Downloaded and saved hotpotqa to F:/datasets/LongBench/\n"
     ]
    },
    {
     "data": {
      "application/vnd.jupyter.widget-view+json": {
       "model_id": "70f6d63cbb9e41a88aafb840b35315d7",
       "version_major": 2,
       "version_minor": 0
      },
      "text/plain": [
       "Saving the dataset (0/1 shards):   0%|          | 0/500 [00:00<?, ? examples/s]"
      ]
     },
     "metadata": {},
     "output_type": "display_data"
    },
    {
     "name": "stdout",
     "output_type": "stream",
     "text": [
      "Downloaded and saved lcc to F:/datasets/LongBench/\n"
     ]
    },
    {
     "data": {
      "application/vnd.jupyter.widget-view+json": {
       "model_id": "6a19fee89a5b4c6aa54b26b6cc74b91b",
       "version_major": 2,
       "version_minor": 0
      },
      "text/plain": [
       "Saving the dataset (0/1 shards):   0%|          | 0/200 [00:00<?, ? examples/s]"
      ]
     },
     "metadata": {},
     "output_type": "display_data"
    },
    {
     "name": "stdout",
     "output_type": "stream",
     "text": [
      "Downloaded and saved lsht to F:/datasets/LongBench/\n"
     ]
    },
    {
     "data": {
      "application/vnd.jupyter.widget-view+json": {
       "model_id": "2b749019bf884c4a85795d0b20c171c2",
       "version_major": 2,
       "version_minor": 0
      },
      "text/plain": [
       "Saving the dataset (0/1 shards):   0%|          | 0/200 [00:00<?, ? examples/s]"
      ]
     },
     "metadata": {},
     "output_type": "display_data"
    },
    {
     "name": "stdout",
     "output_type": "stream",
     "text": [
      "Downloaded and saved multi_news to F:/datasets/LongBench/\n"
     ]
    },
    {
     "data": {
      "application/vnd.jupyter.widget-view+json": {
       "model_id": "f18db2dd7db5463993302137b3094aae",
       "version_major": 2,
       "version_minor": 0
      },
      "text/plain": [
       "Saving the dataset (0/1 shards):   0%|          | 0/200 [00:00<?, ? examples/s]"
      ]
     },
     "metadata": {},
     "output_type": "display_data"
    },
    {
     "name": "stdout",
     "output_type": "stream",
     "text": [
      "Downloaded and saved narrativeqa to F:/datasets/LongBench/\n"
     ]
    },
    {
     "data": {
      "application/vnd.jupyter.widget-view+json": {
       "model_id": "c058a38f8f48492baa5eceacba5280b9",
       "version_major": 2,
       "version_minor": 0
      },
      "text/plain": [
       "Saving the dataset (0/1 shards):   0%|          | 0/200 [00:00<?, ? examples/s]"
      ]
     },
     "metadata": {},
     "output_type": "display_data"
    },
    {
     "name": "stdout",
     "output_type": "stream",
     "text": [
      "Downloaded and saved qasper to F:/datasets/LongBench/\n"
     ]
    },
    {
     "data": {
      "application/vnd.jupyter.widget-view+json": {
       "model_id": "e4f0b7f8dbfe482e8ad66e0c9fe7f7d7",
       "version_major": 2,
       "version_minor": 0
      },
      "text/plain": [
       "Saving the dataset (0/1 shards):   0%|          | 0/200 [00:00<?, ? examples/s]"
      ]
     },
     "metadata": {},
     "output_type": "display_data"
    },
    {
     "name": "stdout",
     "output_type": "stream",
     "text": [
      "Downloaded and saved musique to F:/datasets/LongBench/\n"
     ]
    },
    {
     "data": {
      "application/vnd.jupyter.widget-view+json": {
       "model_id": "7c4c7ebbc9fc448fb195782198dd7318",
       "version_major": 2,
       "version_minor": 0
      },
      "text/plain": [
       "Saving the dataset (0/1 shards):   0%|          | 0/200 [00:00<?, ? examples/s]"
      ]
     },
     "metadata": {},
     "output_type": "display_data"
    },
    {
     "name": "stdout",
     "output_type": "stream",
     "text": [
      "Downloaded and saved qmsum to F:/datasets/LongBench/\n"
     ]
    },
    {
     "data": {
      "application/vnd.jupyter.widget-view+json": {
       "model_id": "1811e7d72dea44bfbba88054b63a8edd",
       "version_major": 2,
       "version_minor": 0
      },
      "text/plain": [
       "Saving the dataset (0/1 shards):   0%|          | 0/200 [00:00<?, ? examples/s]"
      ]
     },
     "metadata": {},
     "output_type": "display_data"
    },
    {
     "name": "stdout",
     "output_type": "stream",
     "text": [
      "Downloaded and saved vcsum to F:/datasets/LongBench/\n"
     ]
    },
    {
     "data": {
      "application/vnd.jupyter.widget-view+json": {
       "model_id": "f7ee21ebc74f426595f41c012193fefb",
       "version_major": 2,
       "version_minor": 0
      },
      "text/plain": [
       "Saving the dataset (0/1 shards):   0%|          | 0/200 [00:00<?, ? examples/s]"
      ]
     },
     "metadata": {},
     "output_type": "display_data"
    },
    {
     "name": "stdout",
     "output_type": "stream",
     "text": [
      "Downloaded and saved trec to F:/datasets/LongBench/\n"
     ]
    },
    {
     "data": {
      "application/vnd.jupyter.widget-view+json": {
       "model_id": "0cafb80e20cd42e0bb7caf1091ffba86",
       "version_major": 2,
       "version_minor": 0
      },
      "text/plain": [
       "Saving the dataset (0/1 shards):   0%|          | 0/200 [00:00<?, ? examples/s]"
      ]
     },
     "metadata": {},
     "output_type": "display_data"
    },
    {
     "name": "stdout",
     "output_type": "stream",
     "text": [
      "Downloaded and saved triviaqa to F:/datasets/LongBench/\n"
     ]
    },
    {
     "data": {
      "application/vnd.jupyter.widget-view+json": {
       "model_id": "89695bd972bd40b2abcaa70bc8524551",
       "version_major": 2,
       "version_minor": 0
      },
      "text/plain": [
       "Saving the dataset (0/1 shards):   0%|          | 0/200 [00:00<?, ? examples/s]"
      ]
     },
     "metadata": {},
     "output_type": "display_data"
    },
    {
     "name": "stdout",
     "output_type": "stream",
     "text": [
      "Downloaded and saved samsum to F:/datasets/LongBench/\n"
     ]
    },
    {
     "data": {
      "application/vnd.jupyter.widget-view+json": {
       "model_id": "cc9e8eb74b994f6cb3c359712750c5d1",
       "version_major": 2,
       "version_minor": 0
      },
      "text/plain": [
       "Saving the dataset (0/1 shards):   0%|          | 0/200 [00:00<?, ? examples/s]"
      ]
     },
     "metadata": {},
     "output_type": "display_data"
    },
    {
     "name": "stdout",
     "output_type": "stream",
     "text": [
      "Downloaded and saved passage_count to F:/datasets/LongBench/\n"
     ]
    },
    {
     "data": {
      "application/vnd.jupyter.widget-view+json": {
       "model_id": "e27ab2e25d1f49e8861b4d3c838ecdbc",
       "version_major": 2,
       "version_minor": 0
      },
      "text/plain": [
       "Saving the dataset (0/1 shards):   0%|          | 0/200 [00:00<?, ? examples/s]"
      ]
     },
     "metadata": {},
     "output_type": "display_data"
    },
    {
     "name": "stdout",
     "output_type": "stream",
     "text": [
      "Downloaded and saved passage_retrieval_en to F:/datasets/LongBench/\n"
     ]
    },
    {
     "data": {
      "application/vnd.jupyter.widget-view+json": {
       "model_id": "dca1dd8c14dc458ab583223a15f22cd0",
       "version_major": 2,
       "version_minor": 0
      },
      "text/plain": [
       "Saving the dataset (0/1 shards):   0%|          | 0/500 [00:00<?, ? examples/s]"
      ]
     },
     "metadata": {},
     "output_type": "display_data"
    },
    {
     "name": "stdout",
     "output_type": "stream",
     "text": [
      "Downloaded and saved repobench-p to F:/datasets/LongBench/\n"
     ]
    }
   ],
   "source": [
    "from datasets import load_dataset\n",
    "import os\n",
    "\n",
    "# 创建本地保存数据集的目录\n",
    "local_dir = \"F:/datasets/LongBench/\"\n",
    "os.makedirs(local_dir, exist_ok=True)\n",
    "\n",
    "# 可用的数据集列表\n",
    "DATASET_LIST = [\n",
    "    \"2wikimqa\", \"dureader\", \"gov_report\", \"hotpotqa\", \"lcc\", \"lsht\", \n",
    "    \"multi_news\", \"narrativeqa\", \"qasper\", \"musique\", \"qmsum\",  \n",
    "    \"vcsum\", \"trec\", \"triviaqa\", \"samsum\", \"passage_count\", \n",
    "    \"passage_retrieval_en\", \"repobench-p\"\n",
    "]\n",
    "\n",
    "# 下载数据集并保存到本地\n",
    "for dataset_name in DATASET_LIST:\n",
    "    dataset = load_dataset(\"THUDM/LongBench\", dataset_name)\n",
    "    \n",
    "    # 保存为 CSV 文件\n",
    "    dataset.save_to_disk(os.path.join(local_dir, dataset_name))\n",
    "    print(f\"Downloaded and saved {dataset_name} to {local_dir}\")"
   ]
  },
  {
   "cell_type": "code",
   "execution_count": 9,
   "metadata": {},
   "outputs": [],
   "source": [
    "from datasets import load_from_disk\n",
    "dataset = load_from_disk(os.path.join(\"F:/datasets/LongBench/2wikimqa\"))"
   ]
  },
  {
   "cell_type": "code",
   "execution_count": 11,
   "metadata": {},
   "outputs": [
    {
     "data": {
      "text/plain": [
       "dict_values([Dataset({\n",
       "    features: ['input', 'context', 'answers', 'length', 'dataset', 'language', 'all_classes', '_id'],\n",
       "    num_rows: 200\n",
       "})])"
      ]
     },
     "execution_count": 11,
     "metadata": {},
     "output_type": "execute_result"
    }
   ],
   "source": [
    "dataset.values()"
   ]
  },
  {
   "cell_type": "code",
   "execution_count": 19,
   "metadata": {},
   "outputs": [
    {
     "name": "stdout",
     "output_type": "stream",
     "text": [
      "Dataset({\n",
      "    features: ['input', 'context', 'answers', 'length', 'dataset', 'language', 'all_classes', '_id'],\n",
      "    num_rows: 200\n",
      "})\n"
     ]
    }
   ],
   "source": [
    "for items in dataset.values():\n",
    "    print(items)\n",
    "        \n",
    "    "
   ]
  },
  {
   "cell_type": "code",
   "execution_count": null,
   "metadata": {},
   "outputs": [],
   "source": [
    "for split in dataset.values():\n",
    "    for item in split:\n",
    "        \n",
    "        print(item)"
   ]
  }
 ],
 "metadata": {
  "kernelspec": {
   "display_name": "Python 3",
   "language": "python",
   "name": "python3"
  },
  "language_info": {
   "codemirror_mode": {
    "name": "ipython",
    "version": 3
   },
   "file_extension": ".py",
   "mimetype": "text/x-python",
   "name": "python",
   "nbconvert_exporter": "python",
   "pygments_lexer": "ipython3",
   "version": "3.11.7"
  }
 },
 "nbformat": 4,
 "nbformat_minor": 2
}
