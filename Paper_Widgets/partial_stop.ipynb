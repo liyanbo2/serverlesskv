{
 "cells": [
  {
   "cell_type": "code",
   "execution_count": 8,
   "metadata": {},
   "outputs": [],
   "source": [
    "def is_partial_stop(output: str, stop_str: str):\n",
    "    \"\"\"Check whether the output contains a partial stop str.\"\"\"\n",
    "    for i in range(0, min(len(output), len(stop_str))):\n",
    "        if stop_str.startswith(output[-i:]):\n",
    "            return True\n",
    "    return False"
   ]
  },
  {
   "cell_type": "code",
   "execution_count": 9,
   "metadata": {},
   "outputs": [
    {
     "name": "stdout",
     "output_type": "stream",
     "text": [
      "False\n",
      "True\n",
      "False\n",
      "True\n"
     ]
    }
   ],
   "source": [
    "output1 = \"Hello, world\"\n",
    "stop_str1 = \"world\"\n",
    "print(is_partial_stop(output1, stop_str1))  # 输出: False\n",
    "\n",
    "output2 = \"Hello, wor\"\n",
    "stop_str2 = \"world\"\n",
    "print(is_partial_stop(output2, stop_str2))  # 输出: True\n",
    "\n",
    "output3 = \"Goodbye, \"\n",
    "stop_str3 = \"Goodbye\"\n",
    "print(is_partial_stop(output3, stop_str3))  # 输出: False\n",
    "\n",
    "output4 = \"Goodbye\"\n",
    "stop_str4 = \"Goodbye\"\n",
    "print(is_partial_stop(output4, stop_str4))  # 输出: False"
   ]
  }
 ],
 "metadata": {
  "kernelspec": {
   "display_name": "kvcache",
   "language": "python",
   "name": "python3"
  },
  "language_info": {
   "codemirror_mode": {
    "name": "ipython",
    "version": 3
   },
   "file_extension": ".py",
   "mimetype": "text/x-python",
   "name": "python",
   "nbconvert_exporter": "python",
   "pygments_lexer": "ipython3",
   "version": "3.10.14"
  }
 },
 "nbformat": 4,
 "nbformat_minor": 2
}
