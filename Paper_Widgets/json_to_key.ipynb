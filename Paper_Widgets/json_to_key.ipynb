{
 "cells": [
  {
   "cell_type": "code",
   "execution_count": 1,
   "metadata": {},
   "outputs": [],
   "source": [
    "import json"
   ]
  },
  {
   "cell_type": "code",
   "execution_count": 2,
   "metadata": {},
   "outputs": [],
   "source": [
    "def json_to_key(obj):\n",
    "    return json.dumps(obj)"
   ]
  },
  {
   "cell_type": "code",
   "execution_count": 5,
   "metadata": {},
   "outputs": [],
   "source": [
    "request = {\n",
    "            \"best_of\": 1, \n",
    "            \"echo\": True, \n",
    "            \"logprobs\": 1, \n",
    "            \"max_tokens\": 0, \n",
    "            \"model\": \"x\", \n",
    "            \"n\": 1, \n",
    "            \n",
    "            \"request_type\": \"language-model-inference\", \n",
    "            \"stop\": None, \n",
    "            \"temperature\": 0, \n",
    "            \"top_p\": 1\n",
    "        }"
   ]
  },
  {
   "cell_type": "code",
   "execution_count": 6,
   "metadata": {},
   "outputs": [],
   "source": [
    "key = json_to_key(request)"
   ]
  },
  {
   "cell_type": "code",
   "execution_count": 7,
   "metadata": {},
   "outputs": [
    {
     "data": {
      "text/plain": [
       "'{\"best_of\": 1, \"echo\": true, \"logprobs\": 1, \"max_tokens\": 0, \"model\": \"x\", \"n\": 1, \"request_type\": \"language-model-inference\", \"stop\": null, \"temperature\": 0, \"top_p\": 1}'"
      ]
     },
     "execution_count": 7,
     "metadata": {},
     "output_type": "execute_result"
    }
   ],
   "source": [
    "key"
   ]
  }
 ],
 "metadata": {
  "kernelspec": {
   "display_name": "kvcache",
   "language": "python",
   "name": "python3"
  },
  "language_info": {
   "codemirror_mode": {
    "name": "ipython",
    "version": 3
   },
   "file_extension": ".py",
   "mimetype": "text/x-python",
   "name": "python",
   "nbconvert_exporter": "python",
   "pygments_lexer": "ipython3",
   "version": "3.10.14"
  }
 },
 "nbformat": 4,
 "nbformat_minor": 2
}
