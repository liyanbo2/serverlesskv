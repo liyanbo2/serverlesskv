{
 "cells": [
  {
   "cell_type": "code",
   "execution_count": 1,
   "metadata": {},
   "outputs": [
    {
     "name": "stdout",
     "output_type": "stream",
     "text": [
      "tensor([[[[0.7252, 0.0239, 0.4981, 0.6237],\n",
      "          [0.1022, 0.6836, 0.9002, 0.7576],\n",
      "          [0.1714, 0.8192, 0.4221, 0.2197]],\n",
      "\n",
      "         [[0.6738, 0.9076, 0.4841, 0.0234],\n",
      "          [0.8681, 0.1221, 0.9582, 0.6868],\n",
      "          [0.9919, 0.0570, 0.1972, 0.6140]]]])\n",
      "tensor([[0.9988, 1.5267, 1.8204, 1.6010],\n",
      "        [2.5338, 1.0866, 1.6395, 1.3242]])\n"
     ]
    }
   ],
   "source": [
    "# 帮我随机生成一个4维的tensor\n",
    "import torch\n",
    "# 随机生成一个4维的tensor\n",
    "x = torch.rand(1, 2, 3, 4)\n",
    "print(x)\n",
    "# 帮我用.sum(0).sum(1)来进行操作\n",
    "y = x.sum(0).sum(1)\n",
    "print(y)\n",
    "\n"
   ]
  },
  {
   "cell_type": "code",
   "execution_count": 2,
   "metadata": {},
   "outputs": [
    {
     "data": {
      "text/plain": [
       "torch.Size([2, 4])"
      ]
     },
     "execution_count": 2,
     "metadata": {},
     "output_type": "execute_result"
    }
   ],
   "source": [
    "y.shape"
   ]
  }
 ],
 "metadata": {
  "kernelspec": {
   "display_name": "Python 3",
   "language": "python",
   "name": "python3"
  },
  "language_info": {
   "codemirror_mode": {
    "name": "ipython",
    "version": 3
   },
   "file_extension": ".py",
   "mimetype": "text/x-python",
   "name": "python",
   "nbconvert_exporter": "python",
   "pygments_lexer": "ipython3",
   "version": "3.10.12"
  }
 },
 "nbformat": 4,
 "nbformat_minor": 2
}
