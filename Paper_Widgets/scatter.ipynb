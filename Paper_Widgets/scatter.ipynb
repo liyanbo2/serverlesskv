{
 "cells": [
  {
   "cell_type": "code",
   "execution_count": 4,
   "metadata": {},
   "outputs": [
    {
     "name": "stdout",
     "output_type": "stream",
     "text": [
      "初始张量:\n",
      "tensor([[0, 0, 0, 0, 0],\n",
      "        [0, 0, 0, 0, 0],\n",
      "        [0, 0, 0, 0, 0]])\n",
      "\n",
      "使用 scatter 之后的张量:\n",
      "tensor([[ 60, 120, 130,  40,  50],\n",
      "        [ 10,  70,  30, 140, 100],\n",
      "        [110,  20,  80,  90, 150]])\n"
     ]
    },
    {
     "ename": "",
     "evalue": "",
     "output_type": "error",
     "traceback": [
      "\u001b[1;31mThe Kernel crashed while executing code in the current cell or a previous cell. \n",
      "\u001b[1;31mPlease review the code in the cell(s) to identify a possible cause of the failure. \n",
      "\u001b[1;31mClick <a href='https://aka.ms/vscodeJupyterKernelCrash'>here</a> for more info. \n",
      "\u001b[1;31mView Jupyter <a href='command:jupyter.viewOutput'>log</a> for further details."
     ]
    }
   ],
   "source": [
    "import torch\n",
    "\n",
    "# 创建一个全为0的张量\n",
    "input = torch.zeros(3, 5, dtype=torch.int64)\n",
    "print(\"初始张量:\")\n",
    "print(input)\n",
    "\n",
    "# 指定索引位置的张量\n",
    "index = torch.tensor([[1, 2, 1, 0, 0],\n",
    "                      [0, 1, 2, 2, 1],\n",
    "                      [2, 0, 0, 1, 2]])\n",
    "\n",
    "# 要插入的值\n",
    "src = torch.tensor([[10, 20, 30, 40, 50],\n",
    "                    [60, 70, 80, 90, 100],\n",
    "                    [110, 120, 130, 140, 150]])\n",
    "\n",
    "# 在 dim=1 的维度进行 scatter 操作\n",
    "output = input.scatter(0, index, src)\n",
    "\n",
    "print(\"\\n使用 scatter 之后的张量:\")\n",
    "print(output)\n"
   ]
  }
 ],
 "metadata": {
  "kernelspec": {
   "display_name": "Python 3",
   "language": "python",
   "name": "python3"
  },
  "language_info": {
   "codemirror_mode": {
    "name": "ipython",
    "version": 3
   },
   "file_extension": ".py",
   "mimetype": "text/x-python",
   "name": "python",
   "nbconvert_exporter": "python",
   "pygments_lexer": "ipython3",
   "version": "3.10.12"
  }
 },
 "nbformat": 4,
 "nbformat_minor": 2
}
