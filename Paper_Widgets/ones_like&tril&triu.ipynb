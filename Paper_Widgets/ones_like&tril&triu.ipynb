{
 "cells": [
  {
   "cell_type": "code",
   "execution_count": 23,
   "metadata": {},
   "outputs": [
    {
     "name": "stdout",
     "output_type": "stream",
     "text": [
      "tensor([[False,  True,  True,  True,  True],\n",
      "        [False, False,  True,  True,  True],\n",
      "        [False, False, False,  True,  True],\n",
      "        [False, False, False, False,  True],\n",
      "        [False, False, False, False, False]])\n"
     ]
    },
    {
     "ename": "",
     "evalue": "",
     "output_type": "error",
     "traceback": [
      "\u001b[1;31mThe Kernel crashed while executing code in the current cell or a previous cell. \n",
      "\u001b[1;31mPlease review the code in the cell(s) to identify a possible cause of the failure. \n",
      "\u001b[1;31mClick <a href='https://aka.ms/vscodeJupyterKernelCrash'>here</a> for more info. \n",
      "\u001b[1;31mView Jupyter <a href='command:jupyter.viewOutput'>log</a> for further details."
     ]
    }
   ],
   "source": [
    "import torch\n",
    "\n",
    "# 假设 attn_weights 是一个 5x5 的张量\n",
    "attn_weights = torch.randn(5, 5)\n",
    "\n",
    "# 生成一个与 attn_weights 大小相同的布尔矩阵，全为 True\n",
    "ones = torch.ones_like(attn_weights, dtype=torch.bool)\n",
    "\n",
    "# 下三角截断，保留对角线以及对角线下 recent_budget 行以内的元素\n",
    "# ones = torch.tril(ones, diagonal=1)\n",
    "\n",
    "# 上三角截断，保留对角线以及对角线上 recent_budget 行以内的元素\n",
    "ones = torch.triu(ones, diagonal=1)\n",
    "\n",
    "print(ones)\n",
    "\n",
    "\n",
    "# 就是说diagonal为正，对角线就往上移动，为负就往下移动\n",
    "# triu和tril的区别就是前者保留上三角，后者保留下三角"
   ]
  },
  {
   "cell_type": "code",
   "execution_count": 6,
   "metadata": {},
   "outputs": [
    {
     "name": "stdout",
     "output_type": "stream",
     "text": [
      "tensor([[ True,  True, False, False, False],\n",
      "        [ True,  True,  True, False, False],\n",
      "        [False,  True,  True,  True, False],\n",
      "        [False, False,  True,  True,  True]])\n"
     ]
    }
   ],
   "source": [
    "ones = torch.tril(ones, diagonal=1)\n",
    "print(ones)\n"
   ]
  }
 ],
 "metadata": {
  "kernelspec": {
   "display_name": "Python 3",
   "language": "python",
   "name": "python3"
  },
  "language_info": {
   "codemirror_mode": {
    "name": "ipython",
    "version": 3
   },
   "file_extension": ".py",
   "mimetype": "text/x-python",
   "name": "python",
   "nbconvert_exporter": "python",
   "pygments_lexer": "ipython3",
   "version": "3.10.12"
  }
 },
 "nbformat": 4,
 "nbformat_minor": 2
}
