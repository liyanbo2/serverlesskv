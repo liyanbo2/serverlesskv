{
 "cells": [
  {
   "cell_type": "code",
   "execution_count": 4,
   "metadata": {},
   "outputs": [
    {
     "ename": "ValueError",
     "evalue": "only one element tensors can be converted to Python scalars",
     "output_type": "error",
     "traceback": [
      "\u001b[0;31m---------------------------------------------------------------------------\u001b[0m",
      "\u001b[0;31mValueError\u001b[0m                                Traceback (most recent call last)",
      "Cell \u001b[0;32mIn[4], line 7\u001b[0m\n\u001b[1;32m      4\u001b[0m probs \u001b[38;5;241m=\u001b[39m torch\u001b[38;5;241m.\u001b[39mtensor([\u001b[38;5;241m0.1\u001b[39m, \u001b[38;5;241m0.3\u001b[39m, \u001b[38;5;241m0.4\u001b[39m, \u001b[38;5;241m0.2\u001b[39m])  \u001b[38;5;66;03m# 4个类别的概率\u001b[39;00m\n\u001b[1;32m      6\u001b[0m \u001b[38;5;66;03m# 从概率分布中抽样\u001b[39;00m\n\u001b[0;32m----> 7\u001b[0m sample_index \u001b[38;5;241m=\u001b[39m \u001b[38;5;28;43mint\u001b[39;49m\u001b[43m(\u001b[49m\u001b[43mtorch\u001b[49m\u001b[38;5;241;43m.\u001b[39;49m\u001b[43mmultinomial\u001b[49m\u001b[43m(\u001b[49m\u001b[43mprobs\u001b[49m\u001b[43m,\u001b[49m\u001b[43m \u001b[49m\u001b[43mnum_samples\u001b[49m\u001b[38;5;241;43m=\u001b[39;49m\u001b[38;5;241;43m3\u001b[39;49m\u001b[43m)\u001b[49m\u001b[43m)\u001b[49m\n\u001b[1;32m      9\u001b[0m \u001b[38;5;28mprint\u001b[39m(\u001b[38;5;124mf\u001b[39m\u001b[38;5;124m\"\u001b[39m\u001b[38;5;124mSampled index: \u001b[39m\u001b[38;5;132;01m{\u001b[39;00msample_index\u001b[38;5;132;01m}\u001b[39;00m\u001b[38;5;124m\"\u001b[39m)\n",
      "\u001b[0;31mValueError\u001b[0m: only one element tensors can be converted to Python scalars"
     ]
    }
   ],
   "source": [
    "import torch\n",
    "\n",
    "# 定义概率分布\n",
    "probs = torch.tensor([0.1, 0.3, 0.4, 0.2])  # 4个类别的概率\n",
    "\n",
    "# 从概率分布中抽样\n",
    "sample_index = int(torch.multinomial(probs, num_samples=1))\n",
    "\n",
    "print(f\"Sampled index: {sample_index}\")"
   ]
  },
  {
   "cell_type": "code",
   "execution_count": 24,
   "metadata": {},
   "outputs": [
    {
     "name": "stdout",
     "output_type": "stream",
     "text": [
      "Sampled indices: [2, 1, 0]\n"
     ]
    }
   ],
   "source": [
    "import torch\n",
    "\n",
    "# 定义概率分布\n",
    "probs = torch.tensor([0.1, 0.3, 0.4, 0.2])  # 4个类别的概率\n",
    "\n",
    "# 从概率分布中抽样 3 个样本\n",
    "samples = torch.multinomial(probs, num_samples=3)\n",
    "\n",
    "print(f\"Sampled indices: {samples.tolist()}\")"
   ]
  },
  {
   "cell_type": "code",
   "execution_count": 25,
   "metadata": {},
   "outputs": [],
   "source": [
    "import torch\n",
    "\n",
    "# 示例 logits（未归一化的评分）\n",
    "logits = torch.tensor([1.0, 2.0, 0.5, 1.5])  # 4个token的logits\n",
    "\n",
    "# 计算概率分布\n",
    "probs = torch.softmax(logits, dim=0)  # dim=0 表示对行进行softmax\n",
    "\n"
   ]
  },
  {
   "cell_type": "code",
   "execution_count": 26,
   "metadata": {},
   "outputs": [
    {
     "data": {
      "text/plain": [
       "tensor([0.1674, 0.4551, 0.1015, 0.2760])"
      ]
     },
     "execution_count": 26,
     "metadata": {},
     "output_type": "execute_result"
    }
   ],
   "source": [
    "probs"
   ]
  },
  {
   "cell_type": "code",
   "execution_count": 58,
   "metadata": {},
   "outputs": [
    {
     "name": "stdout",
     "output_type": "stream",
     "text": [
      "Probabilities: [0.16740509867668152, 0.45505422353744507, 0.101536326110363, 0.2760043442249298]\n",
      "Sampled index: [3]\n"
     ]
    }
   ],
   "source": [
    "# 从概率分布中抽样一个token\n",
    "num_samples = 1  # 要抽样的数量\n",
    "sampled_indices = torch.multinomial(probs, num_samples=num_samples)\n",
    "\n",
    "# 输出结果\n",
    "print(\"Probabilities:\", probs.tolist())\n",
    "print(\"Sampled index:\", sampled_indices.tolist())"
   ]
  }
 ],
 "metadata": {
  "kernelspec": {
   "display_name": "kvcache",
   "language": "python",
   "name": "python3"
  },
  "language_info": {
   "codemirror_mode": {
    "name": "ipython",
    "version": 3
   },
   "file_extension": ".py",
   "mimetype": "text/x-python",
   "name": "python",
   "nbconvert_exporter": "python",
   "pygments_lexer": "ipython3",
   "version": "3.10.14"
  }
 },
 "nbformat": 4,
 "nbformat_minor": 2
}
