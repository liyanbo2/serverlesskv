{
 "cells": [
  {
   "cell_type": "code",
   "execution_count": null,
   "metadata": {},
   "outputs": [],
   "source": [
    "from datasets import load_dataset, concatenate_datasets\n",
    "\n",
    "# 加载所有指定的数据集\n",
    "datasets = [load_dataset(name, split=\"test\") for name in dataset_names]\n",
    "\n",
    "# 融合所有数据集\n",
    "mixed_dataset = concatenate_datasets(datasets)\n",
    "\n",
    "# 打乱数据集\n",
    "shuffled_dataset = mixed_dataset.shuffle(seed=42)\n",
    "\n",
    "# 打印打乱后的数据集信息\n",
    "print(shuffled_dataset)\n",
    "\n",
    "# 可选：保存打乱后的数据集\n",
    "shuffled_dataset.save_to_disk(\"shuffled_mixed_longbench_dataset\")"
   ]
  }
 ],
 "metadata": {
  "language_info": {
   "name": "python"
  }
 },
 "nbformat": 4,
 "nbformat_minor": 2
}
