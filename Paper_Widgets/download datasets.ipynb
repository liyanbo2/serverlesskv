{
 "cells": [
  {
   "cell_type": "code",
   "execution_count": 16,
   "metadata": {},
   "outputs": [],
   "source": [
    "from datasets import load_dataset\n",
    "DATASET_LIST = [\"squad_v2\", \"multi_news\", \"wiki_qa\", \"pubmed_qa\", \"ms_marco\", \"narrativeqa\", \"qasper\",\n",
    "                \"multifieldqa_en\", \"hotpotqa\", \"2wikimqa\", \"musique\", \"dureader\", \"gov_report\", \"qmsum\", \n",
    "                \"vcsum\", \"trec\", \"triviaqa\", \"samsum\", \"lsht\", \"passage_count\", \"passage_retrieval_en\", \"lcc\",\n",
    "                \"repobench-p\"]\n",
    "\n"
   ]
  },
  {
   "cell_type": "code",
   "execution_count": 1,
   "metadata": {},
   "outputs": [
    {
     "name": "stderr",
     "output_type": "stream",
     "text": [
      "/root/anaconda3/envs/kvcache1/lib/python3.11/site-packages/tqdm/auto.py:21: TqdmWarning: IProgress not found. Please update jupyter and ipywidgets. See https://ipywidgets.readthedocs.io/en/stable/user_install.html\n",
      "  from .autonotebook import tqdm as notebook_tqdm\n"
     ]
    }
   ],
   "source": [
    "from datasets import load_dataset"
   ]
  },
  {
   "cell_type": "code",
   "execution_count": 7,
   "metadata": {},
   "outputs": [],
   "source": [
    "from datasets import load_from_disk\n",
    "import os\n",
    "local_dir = \"/dataset/crosspipe/LongBench/\"\n",
    "# List of available datasets in the THUDM/LongBench repository\n",
    "DATASET_LIST = [\"2wikimqa\"]\n",
    "# , \"dureader\", \"gov_report\", \"hotpotqa\", \"lcc\", \"lsht\", \"multi_news\", \n",
    "#                 \"narrativeqa\", \"qasper\", \"musique\", \"qmsum\", \"multi_news_long\", \"vcsum\", \n",
    "#                 \"trec\", \"triviaqa\", \"samsum\", \"passage_count\", \"passage_retrieval_en\", \"repobench-p\"\n",
    "# Download datasets\n",
    "for dataset_name in DATASET_LIST:\n",
    "    dataset= load_from_disk(os.path.join(local_dir, dataset_name))\n",
    "   "
   ]
  },
  {
   "cell_type": "code",
   "execution_count": 8,
   "metadata": {},
   "outputs": [
    {
     "data": {
      "text/plain": [
       "DatasetDict({\n",
       "    test: Dataset({\n",
       "        features: ['input', 'context', 'answers', 'length', 'dataset', 'language', 'all_classes', '_id'],\n",
       "        num_rows: 200\n",
       "    })\n",
       "})"
      ]
     },
     "execution_count": 8,
     "metadata": {},
     "output_type": "execute_result"
    }
   ],
   "source": [
    "dataset"
   ]
  },
  {
   "cell_type": "code",
   "execution_count": 10,
   "metadata": {},
   "outputs": [
    {
     "name": "stdout",
     "output_type": "stream",
     "text": [
      "Dataset({\n",
      "    features: ['input', 'context', 'answers', 'length', 'dataset', 'language', 'all_classes', '_id'],\n",
      "    num_rows: 200\n",
      "})\n"
     ]
    }
   ],
   "source": [
    "for split in dataset.values():\n",
    "    print(split)"
   ]
  }
 ],
 "metadata": {
  "kernelspec": {
   "display_name": "Python 3",
   "language": "python",
   "name": "python3"
  },
  "language_info": {
   "codemirror_mode": {
    "name": "ipython",
    "version": 3
   },
   "file_extension": ".py",
   "mimetype": "text/x-python",
   "name": "python",
   "nbconvert_exporter": "python",
   "pygments_lexer": "ipython3",
   "version": "3.11.9"
  }
 },
 "nbformat": 4,
 "nbformat_minor": 2
}
