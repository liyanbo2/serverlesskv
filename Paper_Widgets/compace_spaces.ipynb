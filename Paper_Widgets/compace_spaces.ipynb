{
 "cells": [
  {
   "cell_type": "code",
   "execution_count": 1,
   "metadata": {},
   "outputs": [],
   "source": [
    "import re"
   ]
  },
  {
   "cell_type": "code",
   "execution_count": 2,
   "metadata": {},
   "outputs": [],
   "source": [
    "def compact_surrounding_spaces(text: str) -> str:\n",
    "    return re.sub(r'^\\s+|\\s+$', ' ', text)"
   ]
  },
  {
   "cell_type": "code",
   "execution_count": 3,
   "metadata": {},
   "outputs": [
    {
     "name": "stdout",
     "output_type": "stream",
     "text": [
      "' Hello, World! '\n"
     ]
    }
   ],
   "source": [
    "print(f\"'{compact_surrounding_spaces('   Hello, World!   ')}'\")"
   ]
  },
  {
   "cell_type": "code",
   "execution_count": 4,
   "metadata": {},
   "outputs": [
    {
     "name": "stdout",
     "output_type": "stream",
     "text": [
      "' Python   Programming '\n"
     ]
    }
   ],
   "source": [
    "print(f\"'{compact_surrounding_spaces('   Python   Programming   ')}'\")  # ' Python   Programming '"
   ]
  },
  {
   "cell_type": "code",
   "execution_count": 5,
   "metadata": {},
   "outputs": [
    {
     "name": "stdout",
     "output_type": "stream",
     "text": [
      "'NoSpacesHere'\n"
     ]
    }
   ],
   "source": [
    "print(f\"'{compact_surrounding_spaces('NoSpacesHere')}'\")  # 'NoSpacesHere'"
   ]
  }
 ],
 "metadata": {
  "kernelspec": {
   "display_name": "kvcache",
   "language": "python",
   "name": "python3"
  },
  "language_info": {
   "codemirror_mode": {
    "name": "ipython",
    "version": 3
   },
   "file_extension": ".py",
   "mimetype": "text/x-python",
   "name": "python",
   "nbconvert_exporter": "python",
   "pygments_lexer": "ipython3",
   "version": "3.10.14"
  }
 },
 "nbformat": 4,
 "nbformat_minor": 2
}
