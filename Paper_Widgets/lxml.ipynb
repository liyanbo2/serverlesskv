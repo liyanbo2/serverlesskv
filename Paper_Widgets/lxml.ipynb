{
 "cells": [
  {
   "cell_type": "code",
   "execution_count": 1,
   "metadata": {},
   "outputs": [
    {
     "name": "stdout",
     "output_type": "stream",
     "text": [
      "Root element: root\n",
      "Child ID: 1 Text: Hello\n",
      "Child ID: 2 Text: World\n"
     ]
    }
   ],
   "source": [
    "from lxml import etree\n",
    "\n",
    "# 示例 XML 字符串\n",
    "xml_string = \"\"\"\n",
    "<root>\n",
    "    <child id=\"1\">Hello</child>\n",
    "    <child id=\"2\">World</child>\n",
    "</root>\n",
    "\"\"\"\n",
    "\n",
    "# 使用 fromstring 解析 XML 字符串\n",
    "root = etree.fromstring(xml_string)\n",
    "\n",
    "# 打印根元素的标签\n",
    "print(\"Root element:\", root.tag)\n",
    "\n",
    "# 遍历子元素并打印它们的 ID 和文本\n",
    "for child in root:\n",
    "    print(\"Child ID:\", child.attrib['id'], \"Text:\", child.text)"
   ]
  }
 ],
 "metadata": {
  "kernelspec": {
   "display_name": "kvcache",
   "language": "python",
   "name": "python3"
  },
  "language_info": {
   "codemirror_mode": {
    "name": "ipython",
    "version": 3
   },
   "file_extension": ".py",
   "mimetype": "text/x-python",
   "name": "python",
   "nbconvert_exporter": "python",
   "pygments_lexer": "ipython3",
   "version": "3.10.14"
  }
 },
 "nbformat": 4,
 "nbformat_minor": 2
}
