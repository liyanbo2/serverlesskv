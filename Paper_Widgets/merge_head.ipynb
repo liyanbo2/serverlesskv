{
 "cells": [
  {
   "cell_type": "code",
   "execution_count": null,
   "metadata": {},
   "outputs": [],
   "source": [
    "def _merge_heads( tensor, num_attention_heads, attn_head_size):\n",
    "        \"\"\"\n",
    "        Merges attn_head_size dim and num_attn_heads dim into hidden dim\n",
    "        \"\"\"\n",
    "        # tensor [bs, num_attention_heads, seq_len, attn_head_size]\n",
    "        tensor = tensor.permute(0, 2, 1, 3).contiguous()\n",
    "        # -> [bs, seq_len, num_attention_heads, attn_head_size]\n",
    "        tensor = tensor.view(tensor.size(0), tensor.size(1), num_attention_heads * attn_head_size)\n",
    "        # -> [bs, seq_len, hidden_size]\n",
    "        return tensor\n"
   ]
  }
 ],
 "metadata": {
  "language_info": {
   "name": "python"
  }
 },
 "nbformat": 4,
 "nbformat_minor": 2
}
