{
 "cells": [
  {
   "cell_type": "code",
   "execution_count": 1,
   "metadata": {},
   "outputs": [],
   "source": [
    "from lxml import etree\n"
   ]
  },
  {
   "cell_type": "code",
   "execution_count": 2,
   "metadata": {},
   "outputs": [
    {
     "name": "stdout",
     "output_type": "stream",
     "text": [
      "<Element root at 0x7f4db7cbd900>\n"
     ]
    }
   ],
   "source": [
    "root = etree.Element('root')\n",
    "print(root)\n"
   ]
  },
  {
   "cell_type": "code",
   "execution_count": 3,
   "metadata": {},
   "outputs": [
    {
     "name": "stdout",
     "output_type": "stream",
     "text": [
      "root\n"
     ]
    }
   ],
   "source": [
    "print(root.tag)"
   ]
  },
  {
   "cell_type": "code",
   "execution_count": 4,
   "metadata": {},
   "outputs": [
    {
     "name": "stdout",
     "output_type": "stream",
     "text": [
      "root\n",
      "b'<root>\\n  <child1/>\\n  <child2/>\\n  <child3/>\\n</root>\\n'\n"
     ]
    }
   ],
   "source": [
    "from lxml import etree\n",
    "\n",
    "root = etree.Element(\"root\")\n",
    "print(root.tag)\n",
    "# 添加子元素\n",
    "root.append(etree.Element(\"child1\"))\n",
    "child2 = etree.SubElement(root,\"child2\")\n",
    "child3 = etree.SubElement(root,\"child3\")\n",
    "# 查看现在的XML元素\n",
    "print(etree.tostring(root,  pretty_print=True))\n"
   ]
  },
  {
   "cell_type": "code",
   "execution_count": 5,
   "metadata": {},
   "outputs": [
    {
     "name": "stdout",
     "output_type": "stream",
     "text": [
      "b'<root goodmorning=\"Guten Tag\"/>'\n",
      "Guten Tag\n"
     ]
    }
   ],
   "source": [
    "from lxml import etree\n",
    "\n",
    "root = etree.Element(\"root\",goodmorning='Guten Tag') #设置属性方法1\n",
    "print(etree.tostring(root))\n",
    "print(root.get('goodmorning')) #获取属性方法1\n",
    "\n"
   ]
  },
  {
   "cell_type": "code",
   "execution_count": 6,
   "metadata": {},
   "outputs": [
    {
     "name": "stdout",
     "output_type": "stream",
     "text": [
      "caicaibird\n",
      "b'<root goodmorning=\"Guten Tag\" hello=\"caicaibird\"/>'\n"
     ]
    }
   ],
   "source": [
    "root.set(\"hello\",\"caicaibird\") #设置属性方法2\n",
    "print(root.attrib['hello']) #获取属性方法2\n",
    "print(etree.tostring(root))"
   ]
  },
  {
   "cell_type": "code",
   "execution_count": 7,
   "metadata": {},
   "outputs": [
    {
     "name": "stdout",
     "output_type": "stream",
     "text": [
      "好好学习天天向上\n",
      "b'<root goodmorning=\"Guten Tag\" hello=\"caicaibird\">&#22909;&#22909;&#23398;&#20064;&#22825;&#22825;&#21521;&#19978;</root>'\n"
     ]
    }
   ],
   "source": [
    "root.text = \"好好学习天天向上\"\n",
    "print(root.text)\n",
    "print(etree.tostring(root))"
   ]
  },
  {
   "cell_type": "code",
   "execution_count": 8,
   "metadata": {},
   "outputs": [
    {
     "name": "stdout",
     "output_type": "stream",
     "text": [
      "root\n",
      "b'<root>data</root>'\n"
     ]
    }
   ],
   "source": [
    "some_xml_data = \"<root>data</root>\"\n",
    "\n",
    "root = etree.fromstring(some_xml_data)\n",
    "print(root.tag)\n",
    "print(etree.tostring(root))"
   ]
  },
  {
   "cell_type": "code",
   "execution_count": 9,
   "metadata": {},
   "outputs": [
    {
     "name": "stdout",
     "output_type": "stream",
     "text": [
      "root\n",
      "b'<root>data</root>'\n"
     ]
    }
   ],
   "source": [
    "root = etree.XML(\"<root>data</root>\")\n",
    "print(root.tag)\n",
    "print(etree.tostring(root))"
   ]
  },
  {
   "cell_type": "code",
   "execution_count": 10,
   "metadata": {},
   "outputs": [
    {
     "name": "stdout",
     "output_type": "stream",
     "text": [
      "html\n",
      "b'<html><body><p>data</p></body></html>'\n"
     ]
    }
   ],
   "source": [
    "root = etree.HTML(\"<p>data</p>\")\n",
    "print(root.tag)\n",
    "print(etree.tostring(root))"
   ]
  },
  {
   "cell_type": "code",
   "execution_count": 11,
   "metadata": {},
   "outputs": [
    {
     "name": "stdout",
     "output_type": "stream",
     "text": [
      "b'<root>data</root>'\n"
     ]
    }
   ],
   "source": [
    "from io import BytesIO\n",
    "some_file_or_file_like_bject = BytesIO(b\"<root>data</root>\")\n",
    "tree = etree.parse(some_file_or_file_like_bject)\n",
    "print(etree.tostring(tree))"
   ]
  },
  {
   "cell_type": "code",
   "execution_count": 13,
   "metadata": {},
   "outputs": [
    {
     "name": "stdout",
     "output_type": "stream",
     "text": [
      "<root>\n",
      "  <child>Hello, World!</child>\n",
      "</root>\n",
      "\n"
     ]
    }
   ],
   "source": [
    "from lxml import etree\n",
    "\n",
    "# 创建根元素\n",
    "root = etree.Element(\"root\")\n",
    "\n",
    "# 创建子元素\n",
    "child = etree.SubElement(root, \"child\")\n",
    "child.text = \"Hello, World!\"\n",
    "\n",
    "# 转换为字符串\n",
    "xml_string = etree.tostring(root, pretty_print=True).decode()\n",
    "print(xml_string)"
   ]
  }
 ],
 "metadata": {
  "kernelspec": {
   "display_name": "kvcache",
   "language": "python",
   "name": "python3"
  },
  "language_info": {
   "codemirror_mode": {
    "name": "ipython",
    "version": 3
   },
   "file_extension": ".py",
   "mimetype": "text/x-python",
   "name": "python",
   "nbconvert_exporter": "python",
   "pygments_lexer": "ipython3",
   "version": "3.10.14"
  }
 },
 "nbformat": 4,
 "nbformat_minor": 2
}
