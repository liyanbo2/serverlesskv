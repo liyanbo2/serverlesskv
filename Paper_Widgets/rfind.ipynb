{
 "cells": [
  {
   "cell_type": "code",
   "execution_count": 1,
   "metadata": {},
   "outputs": [
    {
     "name": "stdout",
     "output_type": "stream",
     "text": [
      "29\n",
      "29\n",
      "29\n",
      "7\n"
     ]
    },
    {
     "ename": "",
     "evalue": "",
     "output_type": "error",
     "traceback": [
      "\u001b[1;31mThe Kernel crashed while executing code in the current cell or a previous cell. \n",
      "\u001b[1;31mPlease review the code in the cell(s) to identify a possible cause of the failure. \n",
      "\u001b[1;31mClick <a href='https://aka.ms/vscodeJupyterKernelCrash'>here</a> for more info. \n",
      "\u001b[1;31mView Jupyter <a href='command:jupyter.viewOutput'>log</a> for further details."
     ]
    }
   ],
   "source": [
    "text = \"Hello, world! Welcome to the world of Python.\"\n",
    "\n",
    "# 查找 'world' 最后一次出现的位置\n",
    "pos = text.rfind('world')\n",
    "print(pos)  # 输出: 26\n",
    "\n",
    "# 查找 'world' 从位置 0 开始的最后出现的位置\n",
    "pos_from_start = text.rfind('world', 0)\n",
    "print(pos_from_start)  # 输出: 26\n",
    "\n",
    "# 查找 'world' 从位置 10 开始的最后出现的位置\n",
    "pos_from_10 = text.rfind('world', 10)\n",
    "print(pos_from_10)  # 输出: 26\n",
    "\n",
    "# 查找 'world' 从位置 0 到 20 的范围内的最后出现位置\n",
    "pos_with_range = text.rfind('world', 0, 20)\n",
    "print(pos_with_range)  # 输出: -1，因为在这个范围内没有找到 'world'"
   ]
  }
 ],
 "metadata": {
  "kernelspec": {
   "display_name": "kvcache",
   "language": "python",
   "name": "python3"
  },
  "language_info": {
   "codemirror_mode": {
    "name": "ipython",
    "version": 3
   },
   "file_extension": ".py",
   "mimetype": "text/x-python",
   "name": "python",
   "nbconvert_exporter": "python",
   "pygments_lexer": "ipython3",
   "version": "3.10.14"
  }
 },
 "nbformat": 4,
 "nbformat_minor": 2
}
