{
 "cells": [
  {
   "cell_type": "code",
   "execution_count": 1,
   "metadata": {},
   "outputs": [
    {
     "name": "stdout",
     "output_type": "stream",
     "text": [
      "Loss: 0.8530367016792297\n"
     ]
    }
   ],
   "source": [
    "import torch\n",
    "import torch.nn as nn\n",
    "\n",
    "# 创建 CrossEntropyLoss 对象\n",
    "loss_fct = nn.CrossEntropyLoss()\n",
    "\n",
    "# 模型输出（logits）\n",
    "logits = torch.tensor([[1.5, 2.0, 0.5], [1.0, 1.2, 1.1]])\n",
    "\n",
    "# 目标标签\n",
    "labels = torch.tensor([1, 2])\n",
    "\n",
    "# 计算损失\n",
    "loss = loss_fct(logits, labels)\n",
    "\n",
    "print(f'Loss: {loss.item()}')\n"
   ]
  }
 ],
 "metadata": {
  "kernelspec": {
   "display_name": "Python 3",
   "language": "python",
   "name": "python3"
  },
  "language_info": {
   "codemirror_mode": {
    "name": "ipython",
    "version": 3
   },
   "file_extension": ".py",
   "mimetype": "text/x-python",
   "name": "python",
   "nbconvert_exporter": "python",
   "pygments_lexer": "ipython3",
   "version": "3.10.12"
  }
 },
 "nbformat": 4,
 "nbformat_minor": 2
}
