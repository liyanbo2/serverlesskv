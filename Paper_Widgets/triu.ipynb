{
 "cells": [
  {
   "cell_type": "code",
   "execution_count": 3,
   "metadata": {},
   "outputs": [],
   "source": [
    "import torch"
   ]
  },
  {
   "cell_type": "code",
   "execution_count": 21,
   "metadata": {},
   "outputs": [],
   "source": [
    "def sanity_check(mask):\n",
    "    # mask (head, query, key)\n",
    "    ones = torch.ones_like(mask)\n",
    "    print(ones)\n",
    "    ones = torch.triu(ones, diagonal=0)\n",
    "    # torch.tril(input, diagonal=0)的作用是返回一个tensor，其上三角部分被置零，其余部分不变\n",
    "    # torch.triu(input, diagonal=0)的作用是返回一个tensor，其下三角部分被置零，其余部分不变\n",
    "    print(ones)\n",
    "    mask_bottom = torch.logical_or(mask, ones)\n",
    "    #torch.logical_or(a,b)的作用是对a和b逐元素进行逻辑或操作，返回一个新的tensor\n",
    "    mask_bottom = mask_bottom.squeeze(0)\n",
    "    print(mask_bottom)\n",
    "    error_cnt = 0\n",
    "    for i in range(mask_bottom.shape[1]-1):\n",
    "        index = mask_bottom[:,i,:].eq(0).unsqueeze(1)\n",
    "        index[:,i:]=0\n",
    "        error_cnt += (mask_bottom[:,i:,:] * index).sum().item()\n",
    "    print(error_cnt)\n",
    "    return error_cnt"
   ]
  },
  {
   "cell_type": "code",
   "execution_count": 26,
   "metadata": {},
   "outputs": [
    {
     "name": "stdout",
     "output_type": "stream",
     "text": [
      "tensor([[[1, 1, 1],\n",
      "         [1, 1, 1],\n",
      "         [1, 1, 1]]])\n",
      "tensor([[[1, 0, 0],\n",
      "         [1, 1, 0],\n",
      "         [1, 1, 1]]])\n",
      "tensor([[ True,  True, False],\n",
      "        [ True,  True,  True],\n",
      "        [ True,  True,  True]])\n"
     ]
    },
    {
     "ename": "AttributeError",
     "evalue": "'NoneType' object has no attribute 'shape'",
     "output_type": "error",
     "traceback": [
      "\u001b[0;31m---------------------------------------------------------------------------\u001b[0m",
      "\u001b[0;31mAttributeError\u001b[0m                            Traceback (most recent call last)",
      "Cell \u001b[0;32mIn[26], line 8\u001b[0m\n\u001b[1;32m      6\u001b[0m \u001b[38;5;66;03m# Call sanity_check\u001b[39;00m\n\u001b[1;32m      7\u001b[0m mask_bottom \u001b[38;5;241m=\u001b[39m sanity_check(mask)\n\u001b[0;32m----> 8\u001b[0m \u001b[43mmask_bottom\u001b[49m\u001b[38;5;241;43m.\u001b[39;49m\u001b[43mshape\u001b[49m[\u001b[38;5;241m2\u001b[39m]\n",
      "\u001b[0;31mAttributeError\u001b[0m: 'NoneType' object has no attribute 'shape'"
     ]
    }
   ],
   "source": [
    "# Example mask (head, query, key)\n",
    "mask = torch.tensor([[[0, 1, 0],\n",
    "                      [0, 0, 1],\n",
    "                      [0, 0, 0]]])\n",
    "\n",
    "# Call sanity_check\n",
    "mask_bottom = sanity_check(mask)\n",
    "mask_bottom.shape[2]"
   ]
  }
 ],
 "metadata": {
  "kernelspec": {
   "display_name": "Python 3",
   "language": "python",
   "name": "python3"
  },
  "language_info": {
   "codemirror_mode": {
    "name": "ipython",
    "version": 3
   },
   "file_extension": ".py",
   "mimetype": "text/x-python",
   "name": "python",
   "nbconvert_exporter": "python",
   "pygments_lexer": "ipython3",
   "version": "3.10.12"
  }
 },
 "nbformat": 4,
 "nbformat_minor": 2
}
