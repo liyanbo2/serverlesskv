{
 "cells": [
  {
   "cell_type": "code",
   "execution_count": 3,
   "metadata": {},
   "outputs": [],
   "source": [
    "import torch\n",
    "import torch.nn as nn\n",
    "import torch.nn.functional as F"
   ]
  },
  {
   "cell_type": "code",
   "execution_count": 36,
   "metadata": {},
   "outputs": [
    {
     "name": "stdout",
     "output_type": "stream",
     "text": [
      "Logits:\n",
      " tensor([[[1., 2., 3.],\n",
      "         [1., 2., 3.]],\n",
      "\n",
      "        [[1., 2., 3.],\n",
      "         [1., 2., 3.]]])\n",
      "Probabilities:\n",
      " tensor([[[0.5000, 0.5000, 0.5000],\n",
      "         [0.5000, 0.5000, 0.5000]],\n",
      "\n",
      "        [[0.5000, 0.5000, 0.5000],\n",
      "         [0.5000, 0.5000, 0.5000]]])\n"
     ]
    }
   ],
   "source": [
    "# 创建一个三维张量，假设这是模型的注意力权重\n",
    "# 形状为 (batch_size, num_heads, sequence_length)\n",
    "logits = torch.tensor([[[1.0, 2.0, 3.0],\n",
    "                        [1.0, 2.0, 3.0]],\n",
    "                       \n",
    "                       [[1.0, 2.0, 3.0],\n",
    "                        [1.0, 2.0, 3.0]]])\n",
    "\n",
    "# 计算 softmax，dim=2 表示沿着 sequence_length 维度计算 softmax\n",
    "probabilities = F.softmax(logits, dim=-3)\n",
    "\n",
    "print(\"Logits:\\n\", logits)\n",
    "print(\"Probabilities:\\n\", probabilities)\n"
   ]
  },
  {
   "cell_type": "code",
   "execution_count": 28,
   "metadata": {},
   "outputs": [
    {
     "data": {
      "text/plain": [
       "torch.Size([2, 2, 3])"
      ]
     },
     "execution_count": 28,
     "metadata": {},
     "output_type": "execute_result"
    }
   ],
   "source": [
    "logits.shape"
   ]
  }
 ],
 "metadata": {
  "kernelspec": {
   "display_name": "Python 3",
   "language": "python",
   "name": "python3"
  },
  "language_info": {
   "codemirror_mode": {
    "name": "ipython",
    "version": 3
   },
   "file_extension": ".py",
   "mimetype": "text/x-python",
   "name": "python",
   "nbconvert_exporter": "python",
   "pygments_lexer": "ipython3",
   "version": "3.10.12"
  }
 },
 "nbformat": 4,
 "nbformat_minor": 2
}
